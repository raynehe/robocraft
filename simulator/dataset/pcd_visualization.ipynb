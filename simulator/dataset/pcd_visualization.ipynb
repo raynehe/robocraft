{
 "cells": [
  {
   "cell_type": "code",
   "execution_count": 10,
   "metadata": {},
   "outputs": [
    {
     "name": "stdout",
     "output_type": "stream",
     "text": [
      "<KeysViewHDF5 ['positions', 'scene_params', 'shape_quats']>\n"
     ]
    }
   ],
   "source": [
    "import h5py\n",
    "import numpy as np\n",
    "from numpy.core.fromnumeric import reshape\n",
    "import open3d as o3d\n",
    "import matplotlib.pyplot as plt\n",
    "\n",
    "def visualize_with_label(cloud, label, window_name=\"open3d\"):\n",
    "    # assert cloud.shape[0] == label.shape[0]\n",
    "\n",
    "    # labels = np.asarray(label)\n",
    "    # max_label = labels.max()\n",
    "    # colors = plt.get_cmap(\"tab20\")(labels / (max_label if max_label > 0 else 1))\n",
    "\n",
    "    pt = o3d.geometry.PointCloud()\n",
    "    pt.points = o3d.utility.Vector3dVector(cloud)\n",
    "    # pt.colors = o3d.utility.Vector3dVector(colors[:, :3])\n",
    "\n",
    "    vis = o3d.visualization.Visualizer()\n",
    "    vis.create_window(width=500, height=500)  # 创建窗口\n",
    "    render_option: o3d.visualization.RenderOption = vis.get_render_option()  # 设置点云渲染参数\n",
    "    render_option.background_color = np.array([0, 0, 0])  # 设置背景色（这里为黑色）\n",
    "    render_option.point_size = 2.0  # 设置渲染点的大小\n",
    "    vis.add_geometry(pt)  # 添加点云\n",
    "    vis.run()\n",
    "    #o3d.visualization.draw_geometries([pt], 'part of cloud', width=500, height=500)\n",
    "\n",
    "def load_h5(h5_filename):\n",
    "    f = h5py.File(h5_filename)\n",
    "    print(f.keys())\n",
    "    data = f['positions']\n",
    "    label = None\n",
    "    return (data, label)\n",
    "\n",
    "def load_h5_data_label_seg(h5_filename):\n",
    "    f = h5py.File(h5_filename)\n",
    "    data = f['data'][:]\n",
    "    label = f['label'][:]\n",
    "    seg = f['pid'][:]\n",
    "    return (data, label, seg)\n",
    "\n",
    "\n",
    "datas,labels = load_h5(\"sample_ngrip_fixed_22-Feb-2023-21:28:34.252722/000/shape_0.h5\")\n"
   ]
  },
  {
   "cell_type": "code",
   "execution_count": 11,
   "metadata": {},
   "outputs": [
    {
     "name": "stdout",
     "output_type": "stream",
     "text": [
      "(331, 3)\n"
     ]
    }
   ],
   "source": [
    "import torch\n",
    "#one block\n",
    "print(datas.shape)\n",
    "# points = datas[0][..., 0:3]\n",
    "# print(points.shape)\n",
    "label = torch.ones(datas.shape[0],datas.shape[1])\n",
    "visualize_with_label(datas,label)"
   ]
  }
 ],
 "metadata": {
  "kernelspec": {
   "display_name": "robocraft",
   "language": "python",
   "name": "python3"
  },
  "language_info": {
   "codemirror_mode": {
    "name": "ipython",
    "version": 3
   },
   "file_extension": ".py",
   "mimetype": "text/x-python",
   "name": "python",
   "nbconvert_exporter": "python",
   "pygments_lexer": "ipython3",
   "version": "3.8.11"
  },
  "orig_nbformat": 4,
  "vscode": {
   "interpreter": {
    "hash": "3ee5d456e66520416b9acce659ecffd4bc60b083da1f7f40c5df67792aad1469"
   }
  }
 },
 "nbformat": 4,
 "nbformat_minor": 2
}
